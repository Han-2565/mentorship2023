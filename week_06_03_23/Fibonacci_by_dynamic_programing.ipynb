{
 "cells": [
  {
   "cell_type": "code",
   "execution_count": 6,
   "id": "86ab7402",
   "metadata": {},
   "outputs": [],
   "source": [
    "# Dynamic programing: store the number in a list to avoid multiple calculations for the same number\n",
    "# Time: O(n), Space: O(n)\n",
    "def fibonacci(n):\n",
    "    f = [0, 1]\n",
    "    if n < 2:\n",
    "        return f[n]\n",
    "    for i in range(2, n+1):\n",
    "        f.append(f[i-1] + f[i-2])\n",
    "    return f[n]"
   ]
  },
  {
   "cell_type": "code",
   "execution_count": 7,
   "id": "19750f1e",
   "metadata": {},
   "outputs": [
    {
     "data": {
      "text/plain": [
       "34"
      ]
     },
     "execution_count": 7,
     "metadata": {},
     "output_type": "execute_result"
    }
   ],
   "source": [
    "fibonacci(9)"
   ]
  },
  {
   "cell_type": "code",
   "execution_count": 10,
   "id": "e9ef0b6f",
   "metadata": {},
   "outputs": [],
   "source": [
    "# We can improve the space to O(1) for large n "
   ]
  },
  {
   "cell_type": "code",
   "execution_count": 11,
   "id": "dc554633",
   "metadata": {},
   "outputs": [],
   "source": [
    "def fibonacci_space(n):\n",
    "    a = 0\n",
    "    b = 1\n",
    "    \n",
    "    if n == 0:\n",
    "        return a\n",
    "    elif n == 1:\n",
    "        return b\n",
    "    else:\n",
    "        for i in range(2, n+1):\n",
    "            c = a + b\n",
    "            a = b\n",
    "            b = c\n",
    "        return c"
   ]
  },
  {
   "cell_type": "code",
   "execution_count": 14,
   "id": "b6d46a21",
   "metadata": {},
   "outputs": [
    {
     "data": {
      "text/plain": [
       "498454011879264"
      ]
     },
     "execution_count": 14,
     "metadata": {},
     "output_type": "execute_result"
    }
   ],
   "source": [
    "fibonacci_space(72)"
   ]
  }
 ],
 "metadata": {
  "kernelspec": {
   "display_name": "Python 3 (ipykernel)",
   "language": "python",
   "name": "python3"
  },
  "language_info": {
   "codemirror_mode": {
    "name": "ipython",
    "version": 3
   },
   "file_extension": ".py",
   "mimetype": "text/x-python",
   "name": "python",
   "nbconvert_exporter": "python",
   "pygments_lexer": "ipython3",
   "version": "3.7.13"
  }
 },
 "nbformat": 4,
 "nbformat_minor": 5
}
