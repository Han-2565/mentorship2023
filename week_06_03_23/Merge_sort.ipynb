{
 "cells": [
  {
   "cell_type": "code",
   "execution_count": 2,
   "id": "151024dc",
   "metadata": {},
   "outputs": [],
   "source": [
    "# Merge sort\n",
    "def merge_sort(arr):\n",
    "    if len(arr) == 1:\n",
    "        return\n",
    "    mid = len(arr) // 2\n",
    "    left = arr[: mid]\n",
    "    right = arr[mid :]\n",
    "    \n",
    "    merge_sort(left)\n",
    "    merge_sort(right)\n",
    "    \n",
    "    i = j = k= 0\n",
    "    while i < len(left) and j < len(right):\n",
    "        if left[i] <= right[j]:\n",
    "            arr[k] = left[i]\n",
    "            i += 1\n",
    "        else:\n",
    "            arr[k] = right[j]\n",
    "            j += 1\n",
    "        k += 1\n",
    "        \n",
    "    while i < len(left):\n",
    "        arr[k] = left[i]\n",
    "        i += 1\n",
    "        k += 1\n",
    "        \n",
    "    while j < len(right):\n",
    "        arr[k] = right[j]\n",
    "        j += 1\n",
    "        k +=1\n",
    "    \n",
    "    return arr"
   ]
  },
  {
   "cell_type": "code",
   "execution_count": 3,
   "id": "9878db8e",
   "metadata": {},
   "outputs": [
    {
     "data": {
      "text/plain": [
       "[2, 3, 4, 5, 6, 7, 8, 9]"
      ]
     },
     "execution_count": 3,
     "metadata": {},
     "output_type": "execute_result"
    }
   ],
   "source": [
    "merge_sort([9,8,7,6,5,4,3,2])"
   ]
  }
 ],
 "metadata": {
  "kernelspec": {
   "display_name": "Python 3 (ipykernel)",
   "language": "python",
   "name": "python3"
  },
  "language_info": {
   "codemirror_mode": {
    "name": "ipython",
    "version": 3
   },
   "file_extension": ".py",
   "mimetype": "text/x-python",
   "name": "python",
   "nbconvert_exporter": "python",
   "pygments_lexer": "ipython3",
   "version": "3.7.13"
  }
 },
 "nbformat": 4,
 "nbformat_minor": 5
}
