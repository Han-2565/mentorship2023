{
 "cells": [
  {
   "cell_type": "markdown",
   "id": "e224293a",
   "metadata": {},
   "source": [
    "#### Stack"
   ]
  },
  {
   "cell_type": "code",
   "execution_count": 10,
   "id": "f60740e9",
   "metadata": {},
   "outputs": [],
   "source": [
    "class Stack:\n",
    "    def __init__(self, stack):\n",
    "        self.stack = stack\n",
    "        \n",
    "    def stack_push(self, element):\n",
    "        self.stack.append(element)\n",
    "    \n",
    "    def stack_pop(self):\n",
    "        self.stack.pop()"
   ]
  },
  {
   "cell_type": "code",
   "execution_count": 11,
   "id": "b8c5a74e",
   "metadata": {},
   "outputs": [
    {
     "data": {
      "text/plain": [
       "list"
      ]
     },
     "execution_count": 11,
     "metadata": {},
     "output_type": "execute_result"
    }
   ],
   "source": [
    "s1 = Stack([1,2,3])"
   ]
  },
  {
   "cell_type": "code",
   "execution_count": 14,
   "id": "8e7fbdd4",
   "metadata": {},
   "outputs": [
    {
     "data": {
      "text/plain": [
       "[1, 2, 3, 4, 4, 4]"
      ]
     },
     "execution_count": 14,
     "metadata": {},
     "output_type": "execute_result"
    }
   ],
   "source": [
    "s1.stack_push(4)\n",
    "s1.stack"
   ]
  },
  {
   "cell_type": "code",
   "execution_count": 16,
   "id": "b7c0735e",
   "metadata": {},
   "outputs": [
    {
     "data": {
      "text/plain": [
       "[1, 2, 3, 4]"
      ]
     },
     "execution_count": 16,
     "metadata": {},
     "output_type": "execute_result"
    }
   ],
   "source": [
    "s1.stack_pop()\n",
    "s1.stack"
   ]
  },
  {
   "cell_type": "markdown",
   "id": "849ac57a",
   "metadata": {},
   "source": [
    "#### Queue"
   ]
  },
  {
   "cell_type": "code",
   "execution_count": 20,
   "id": "cec4caba",
   "metadata": {},
   "outputs": [],
   "source": [
    "class Queue:\n",
    "    def __init__(self, queue):\n",
    "        self.queue = queue\n",
    "        \n",
    "    def queue_enqueue(self, element):\n",
    "        self.queue.append(element)\n",
    "    \n",
    "    def queue_dequeue(self):\n",
    "        self.queue.pop(0)"
   ]
  },
  {
   "cell_type": "code",
   "execution_count": 21,
   "id": "57282c5f",
   "metadata": {},
   "outputs": [],
   "source": [
    "q1 = Queue([4,5,6])"
   ]
  },
  {
   "cell_type": "code",
   "execution_count": 23,
   "id": "b2971742",
   "metadata": {},
   "outputs": [
    {
     "data": {
      "text/plain": [
       "[4, 5, 6, 7, 7]"
      ]
     },
     "execution_count": 23,
     "metadata": {},
     "output_type": "execute_result"
    }
   ],
   "source": [
    "q1.queue_enqueue(7)\n",
    "q1.queue"
   ]
  },
  {
   "cell_type": "code",
   "execution_count": 24,
   "id": "6265f87a",
   "metadata": {},
   "outputs": [
    {
     "data": {
      "text/plain": [
       "[5, 6, 7, 7]"
      ]
     },
     "execution_count": 24,
     "metadata": {},
     "output_type": "execute_result"
    }
   ],
   "source": [
    "q1.queue_dequeue()\n",
    "q1.queue"
   ]
  },
  {
   "cell_type": "markdown",
   "id": "9d582411",
   "metadata": {},
   "source": [
    "#### Linked list"
   ]
  },
  {
   "cell_type": "code",
   "execution_count": 4,
   "id": "4746111b",
   "metadata": {},
   "outputs": [],
   "source": [
    "class Node:\n",
    "    def __init__(self, value, next_node=None, prev_node=None):\n",
    "        self.value = value\n",
    "        self.next = next_node\n",
    "        self.prev = prev_node\n",
    "\n",
    "    def __str__(self):\n",
    "        return str(self.value)"
   ]
  },
  {
   "cell_type": "code",
   "execution_count": 3,
   "id": "5a76a7d6",
   "metadata": {},
   "outputs": [],
   "source": [
    "class LinkedList:\n",
    "    def __init__(self, values=None):\n",
    "        self.head = None\n",
    "        self.tail = None\n",
    "        if values is not None:\n",
    "            self.add_multiple_nodes(values)\n",
    "    \n",
    "    def __iter__(self):\n",
    "        current = self.head\n",
    "        while current:\n",
    "            yield current\n",
    "            current = current.next\n",
    "            \n",
    "    def add_node(self, value):\n",
    "        if self.head is None:\n",
    "            self.tail = self.head = Node(value)\n",
    "        else:\n",
    "            self.tail.next = Node(value)\n",
    "            self.tail = self.tail.next\n",
    "        return self.tail\n",
    "    \n",
    "    def add_multiple_nodes(self, values):\n",
    "        for value in values:\n",
    "            self.add_node(value)"
   ]
  },
  {
   "cell_type": "code",
   "execution_count": 6,
   "id": "0519b4d1",
   "metadata": {},
   "outputs": [
    {
     "name": "stdout",
     "output_type": "stream",
     "text": [
      "1\n",
      "2\n",
      "3\n"
     ]
    }
   ],
   "source": [
    "values = [1,2,3]\n",
    "L1 = LinkedList(values)\n",
    "List_L1 = L1.__iter__()\n",
    "while True:\n",
    "    try:\n",
    "        print(List_L1.__next__())\n",
    "    except:\n",
    "        break"
   ]
  },
  {
   "cell_type": "markdown",
   "id": "92a17fc4",
   "metadata": {},
   "source": [
    "#### Binary tree"
   ]
  },
  {
   "cell_type": "code",
   "execution_count": 25,
   "id": "f6c2006a",
   "metadata": {},
   "outputs": [],
   "source": [
    "class TreeNode:\n",
    "    def __init__(self, x):\n",
    "        self.val = x\n",
    "        self.left = None\n",
    "        self.right = None"
   ]
  },
  {
   "cell_type": "code",
   "execution_count": 26,
   "id": "c5a0c54a",
   "metadata": {},
   "outputs": [],
   "source": [
    "def buildTree(nums):\n",
    "    if not nums:\n",
    "        return None\n",
    "    root = TreeNode(nums[0])\n",
    "    q = [root]\n",
    "    i = 1\n",
    "    while i < len(nums):\n",
    "        curr = q.pop(0)\n",
    "        if i < len(nums):\n",
    "            curr.left = TreeNode(nums[i])\n",
    "            q.append(curr.left)\n",
    "            i += 1\n",
    "        if i < len(nums):\n",
    "            curr.right = TreeNode(nums[i])\n",
    "            q.append(curr.right)\n",
    "            i += 1\n",
    "    return root"
   ]
  },
  {
   "cell_type": "code",
   "execution_count": 36,
   "id": "9c7124bd",
   "metadata": {},
   "outputs": [],
   "source": [
    "def printTree_inorder(root):\n",
    "    if not root:\n",
    "        return\n",
    "    printTree_inorder(root.left)\n",
    "    print(root.val, end=\" \")\n",
    "    printTree_inorder(root.right)"
   ]
  },
  {
   "cell_type": "code",
   "execution_count": 37,
   "id": "eae691b1",
   "metadata": {},
   "outputs": [],
   "source": [
    "def printTree_preorder(root):\n",
    "    if not root:\n",
    "        return\n",
    "    print(root.val, end=\" \")\n",
    "    printTree_preorder(root.left)\n",
    "    printTree_preorder(root.right)"
   ]
  },
  {
   "cell_type": "code",
   "execution_count": 38,
   "id": "4d56cecb",
   "metadata": {},
   "outputs": [],
   "source": [
    "def printTree_postorder(root):\n",
    "    if not root:\n",
    "        return\n",
    "    printTree_preorder(root.left)\n",
    "    printTree_preorder(root.right)\n",
    "    print(root.val, end=\" \")"
   ]
  },
  {
   "cell_type": "code",
   "execution_count": 34,
   "id": "dbafbf13",
   "metadata": {},
   "outputs": [
    {
     "name": "stdout",
     "output_type": "stream",
     "text": [
      "<__main__.TreeNode object at 0x000001CAA47D6F48>\n"
     ]
    }
   ],
   "source": [
    "nums = [1,2,3]\n",
    "tree_root = buildTree(nums)"
   ]
  },
  {
   "cell_type": "code",
   "execution_count": 39,
   "id": "fd67b707",
   "metadata": {},
   "outputs": [
    {
     "name": "stdout",
     "output_type": "stream",
     "text": [
      "2 1 3 "
     ]
    }
   ],
   "source": [
    "printTree_inorder(tree_root)"
   ]
  }
 ],
 "metadata": {
  "kernelspec": {
   "display_name": "Python 3 (ipykernel)",
   "language": "python",
   "name": "python3"
  },
  "language_info": {
   "codemirror_mode": {
    "name": "ipython",
    "version": 3
   },
   "file_extension": ".py",
   "mimetype": "text/x-python",
   "name": "python",
   "nbconvert_exporter": "python",
   "pygments_lexer": "ipython3",
   "version": "3.7.13"
  }
 },
 "nbformat": 4,
 "nbformat_minor": 5
}
